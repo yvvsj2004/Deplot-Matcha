{
 "cells": [
  {
   "cell_type": "code",
   "execution_count": 1,
   "metadata": {},
   "outputs": [
    {
     "name": "stderr",
     "output_type": "stream",
     "text": [
      "/Library/Frameworks/Python.framework/Versions/3.12/lib/python3.12/site-packages/tqdm/auto.py:21: TqdmWarning: IProgress not found. Please update jupyter and ipywidgets. See https://ipywidgets.readthedocs.io/en/stable/user_install.html\n",
      "  from .autonotebook import tqdm as notebook_tqdm\n"
     ]
    }
   ],
   "source": [
    "\n",
    "from transformers import Pix2StructProcessor, Pix2StructForConditionalGeneration\n",
    "import requests\n",
    "from PIL import Image\n",
    "processor = Pix2StructProcessor.from_pretrained('google/matcha-base')\n",
    "model = Pix2StructForConditionalGeneration.from_pretrained('google/matcha-base')\n",
    "\n",
    "\n",
    "# print(random_images_list)\n",
    "# image = Image.open('ChartQA/ChartQA Dataset/val/png/334.png')\n",
    "# inputs = processor(images=image, text=\"Generate underlying data table of the figure below:\", return_tensors=\"pt\")\n",
    "# predictions = model.generate(**inputs, max_new_tokens=512)\n",
    "# lin_table = processor.decode(predictions[0], skip_special_tokens=True)"
   ]
  },
  {
   "cell_type": "code",
   "execution_count": 3,
   "metadata": {},
   "outputs": [],
   "source": [
    "import os\n",
    "image_dir = \"train/images\"\n",
    "table_dirr = \"train/tables\"\n",
    "image_list = []\n",
    "for image in os.listdir(image_dir):\n",
    "    if \".png\" in image:\n",
    "        image_list.append(image)\n",
    "output = []\n",
    "for image in image_list[:20]:\n",
    "    image_name = Image.open(os.path.join(image_dir,image))\n",
    "    inputs = processor(images=image_name, text=\"Generate underlying data table of the figure below:\", return_tensors=\"pt\")\n",
    "    predictions = model.generate(**inputs, max_new_tokens=512)\n",
    "    out = (processor.decode(predictions[0], skip_special_tokens=True))\n",
    "    output.append(out)\n"
   ]
  },
  {
   "cell_type": "code",
   "execution_count": 4,
   "metadata": {},
   "outputs": [],
   "source": [
    "from helpers import model_output\n",
    "\n",
    "model_output(output, image_list[:20], logfile=\"zero_shot_log.txt\")\n"
   ]
  },
  {
   "cell_type": "code",
   "execution_count": null,
   "metadata": {},
   "outputs": [],
   "source": []
  }
 ],
 "metadata": {
  "kernelspec": {
   "display_name": "Python 3",
   "language": "python",
   "name": "python3"
  },
  "language_info": {
   "codemirror_mode": {
    "name": "ipython",
    "version": 3
   },
   "file_extension": ".py",
   "mimetype": "text/x-python",
   "name": "python",
   "nbconvert_exporter": "python",
   "pygments_lexer": "ipython3",
   "version": "3.12.3"
  }
 },
 "nbformat": 4,
 "nbformat_minor": 2
}
